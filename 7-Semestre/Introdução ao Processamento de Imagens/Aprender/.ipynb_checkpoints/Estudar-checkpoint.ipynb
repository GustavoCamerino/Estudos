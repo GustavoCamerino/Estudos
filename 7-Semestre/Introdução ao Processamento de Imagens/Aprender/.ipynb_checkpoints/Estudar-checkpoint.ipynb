{
 "cells": [
  {
   "cell_type": "markdown",
   "id": "a8e1737c-ccd8-46ae-ad8a-efb6736a5cd0",
   "metadata": {},
   "source": [
    "<h1>Meu Caderno de Estudos</h1>\n",
    "<h2>Gustavo Camerino</h2>"
   ]
  },
  {
   "cell_type": "code",
   "execution_count": null,
   "id": "e77fa3d6-98e0-4987-9bd8-96d0d44e79be",
   "metadata": {},
   "outputs": [],
   "source": [
    "import cv2 as cv\n",
    "import numpy as np\n",
    "import matplotlib.pyplot as plt\n",
    "\n",
    "# Load the image\n",
    "img = cv.imread('gataiada.jpg')  # Ensure correct path to the image\n",
    "\n",
    "# Check if the image was loaded successfully\n",
    "if img is None:\n",
    "    raise FileNotFoundError(\"Error: Could not load 'vinicius.jpg'. Check file path or integrity.\")\n",
    "\n",
    "# Convert to grayscale\n",
    "gray = cv.cvtColor(img, cv.COLOR_BGR2GRAY)\n",
    "\n",
    "# Apply negative transformation\n",
    "neg_gray = 255 - gray\n",
    "neg_bgr = 255 - img\n",
    "\n",
    "# Display results\n",
    "plt.figure(); plt.title('Negativo (gray)'); plt.imshow(neg_gray, cmap='gray'); plt.axis('off')\n",
    "plt.figure(); plt.title('Negativo (color)'); plt.imshow(cv.cvtColor(neg_bgr, cv.COLOR_BGR2RGB)); plt.axis('off')\n",
    "plt.show()"
   ]
  }
 ],
 "metadata": {
  "kernelspec": {
   "display_name": "Python 3 (ipykernel)",
   "language": "python",
   "name": "python3"
  },
  "language_info": {
   "codemirror_mode": {
    "name": "ipython",
    "version": 3
   },
   "file_extension": ".py",
   "mimetype": "text/x-python",
   "name": "python",
   "nbconvert_exporter": "python",
   "pygments_lexer": "ipython3",
   "version": "3.10.12"
  }
 },
 "nbformat": 4,
 "nbformat_minor": 5
}
